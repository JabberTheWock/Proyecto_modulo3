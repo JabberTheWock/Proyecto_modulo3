{
 "cells": [
  {
   "cell_type": "code",
   "execution_count": 1,
   "metadata": {},
   "outputs": [],
   "source": [
    "import matplotlib.pyplot as plt\n",
    "%matplotlib inline\n",
    "import numpy as np\n",
    "import matplotlib as mpl"
   ]
  },
  {
   "cell_type": "markdown",
   "metadata": {},
   "source": [
    "#  1.1 Resortes acoplados\n",
    ">\n"
   ]
  },
  {
   "cell_type": "markdown",
   "metadata": {},
   "source": [
    "## *1.2 Objetivos*\n",
    "\n",
    "> #### 1.2.1 Objetivo General\n",
    ">  - Resolver un problema de resortes acoplados mediante el uso de ecuaciones diferenciales.\n",
    "> #### 1.2.2 Objetivos específicos\n",
    ">  - Aprender a usar el sistema de ecuaciones diferenciales aplicado a una situación de interés.\n",
    ">  - Manejar las librerías adecuadas para obtener una solución.\n",
    ">  - Mediante el uso de lo aprendido en el Módulo 3 resolver correctamente la ecuación de resortes acoplados.\n",
    ">  - Utilizar la función signal de la librería scipy(scipy.signal)\n",
    " "
   ]
  },
  {
   "cell_type": "markdown",
   "metadata": {},
   "source": [
    "## *1.3 Modelo que representa el problema*\n",
    "\\begin{equation}\n",
    "F = m_{1} \\frac{d^2x_{1}}{dt^2} = -k_{1}x_{1}+k_{2}(x_{2}-x_{1})\n",
    "\\end{equation}\n",
    "\n",
    "\\begin{equation}\n",
    "F = m_{2} \\frac{d^2x_{2}}{dt^2} = -k_{2}(x_{2}-x_{1})\n",
    "\\end{equation}\n",
    "\n",
    "<div>\n",
    "\n",
    "<img style=\"float: center; margin: 15px 15px 15px 15px;\" src=\"https://i.ibb.co/d05dDMW/Resortes.jpg\" width=\"250px\" height=\"150px\" />\n",
    "</div>\n",
    "\n"
   ]
  },
  {
   "cell_type": "markdown",
   "metadata": {},
   "source": [
    "### *Enunciado que representa el problema*\n",
    "\n",
    "Se tienen 2 masas de 1 slug cada una conectadas mediante dos resortes, el resorte 1 tiene una constante ($k_1$) de 6lb/ft y el resorte 2 tiene una constante ($k_2$) de 4lb/ft. El movimiento de las masas comienza desde la posición de equilibrio.\n",
    "La velocidad inicial de la masa 1 ($m_1$) es de 1ft/s y la de la masa 2 ($m_2$) es de -1ft/s. Dar las ecuaciones de movimiento de cada masa y graficar.\n",
    "\n"
   ]
  },
  {
   "cell_type": "markdown",
   "metadata": {},
   "source": [
    "## *1.4 Solución*"
   ]
  },
  {
   "cell_type": "code",
   "execution_count": 19,
   "metadata": {},
   "outputs": [],
   "source": [
    "#importamos las librerías que se van a ocupar\n",
    "import numpy as np\n",
    "import matplotlib.pyplot as plt\n",
    "%matplotlib inline\n",
    "import sympy as sym\n",
    "import scipy\n",
    "from sympy.abc import s,t,x,y,z\n",
    "from sympy.integrals import laplace_transform\n",
    "from sympy.integrals import inverse_laplace_transform\n",
    "\n",
    "# Se definen las variables que tenemos del problema\n",
    "m_1 = 1\n",
    "k_1 = 6\n",
    "m_2 = 1 \n",
    "k_2 = 4\n",
    "x1_0 = 0\n",
    "x1d_0 = 0\n",
    "x2_0 = 1\n",
    "x2d_0 = -1  \n",
    "\n",
    "#De acuerdo a las ecuaciones que representan al problema se definen con las variables que ya definimos\n",
    "#Se definen las funciones para las ecuaciones de movimiento de las masas\n",
    "def ec_masa1(k_1,k_2,x1,x2):\n",
    "    return -k_1*x1+k_2*(x2-x1) \n",
    "def ec_masa2(k_2,x2,x1):\n",
    "    return -k_2*(x2-x1) \n"
   ]
  },
  {
   "cell_type": "code",
   "execution_count": null,
   "metadata": {},
   "outputs": [],
   "source": []
  },
  {
   "cell_type": "markdown",
   "metadata": {},
   "source": [
    "## *1.5 Visualización de la solución del problema*"
   ]
  },
  {
   "cell_type": "code",
   "execution_count": null,
   "metadata": {},
   "outputs": [],
   "source": []
  },
  {
   "cell_type": "code",
   "execution_count": null,
   "metadata": {},
   "outputs": [],
   "source": []
  },
  {
   "cell_type": "code",
   "execution_count": null,
   "metadata": {},
   "outputs": [],
   "source": []
  },
  {
   "cell_type": "code",
   "execution_count": null,
   "metadata": {},
   "outputs": [],
   "source": []
  },
  {
   "cell_type": "code",
   "execution_count": null,
   "metadata": {},
   "outputs": [],
   "source": []
  },
  {
   "cell_type": "code",
   "execution_count": null,
   "metadata": {},
   "outputs": [],
   "source": []
  },
  {
   "cell_type": "code",
   "execution_count": null,
   "metadata": {},
   "outputs": [],
   "source": []
  },
  {
   "cell_type": "markdown",
   "metadata": {},
   "source": [
    "## *1.6 Conclusiones*"
   ]
  },
  {
   "cell_type": "code",
   "execution_count": null,
   "metadata": {},
   "outputs": [],
   "source": []
  },
  {
   "cell_type": "markdown",
   "metadata": {},
   "source": [
    "## *1.7 Referencias*"
   ]
  }
 ],
 "metadata": {
  "kernelspec": {
   "display_name": "Python 3",
   "language": "python",
   "name": "python3"
  },
  "language_info": {
   "codemirror_mode": {
    "name": "ipython",
    "version": 3
   },
   "file_extension": ".py",
   "mimetype": "text/x-python",
   "name": "python",
   "nbconvert_exporter": "python",
   "pygments_lexer": "ipython3",
   "version": "3.7.4"
  }
 },
 "nbformat": 4,
 "nbformat_minor": 2
}
